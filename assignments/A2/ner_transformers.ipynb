{
  "cells": [
    {
      "cell_type": "code",
      "source": [
        "def load_data():\n",
        "    # load data\n",
        "    import os\n",
        "    import numpy as np\n",
        "\n",
        "    data_dir = os.path.join(os.getcwd(), \"data\")\n",
        "    train_path = os.path.join(data_dir, 'train.txt')\n",
        "    valid_path = os.path.join(data_dir, 'valid.txt')\n",
        "    test_path  = os.path.join(data_dir, 'test.txt')\n",
        "\n",
        "    with open(train_path, 'r', encoding=\"utf-8\") as f:\n",
        "        train_raw = [l.strip() for l in f.readlines()]\n",
        "        train = list()\n",
        "        start_of_sentence = 0\n",
        "        for i in range(len(train_raw)):\n",
        "            if train_raw[i] == '': # end of sentence\n",
        "                sent = list()\n",
        "                tags = list()\n",
        "                for l in train_raw[start_of_sentence:i]:\n",
        "                    l = l.split(' ')\n",
        "                    sent.append(l[0])\n",
        "                    tags.append(l[-1])\n",
        "                train.append((sent, tags))\n",
        "                start_of_sentence = i+1\n",
        "\n",
        "    with open(valid_path, 'r', encoding=\"utf-8\") as f:\n",
        "        valid_raw = [l.strip() for l in f.readlines()]\n",
        "        valid = list()\n",
        "        start_of_sentence = 0\n",
        "        for i in range(len(valid_raw)):\n",
        "            if valid_raw[i] == '': # end of sentence\n",
        "                sent = list()\n",
        "                tags = list()\n",
        "                for l in valid_raw[start_of_sentence:i]:\n",
        "                    l = l.split(' ')\n",
        "                    sent.append(l[0])\n",
        "                    tags.append(l[-1])\n",
        "                valid.append((sent, tags))\n",
        "                start_of_sentence = i+1\n",
        "    with open(test_path, 'r', encoding=\"utf-8\") as f:\n",
        "        test_raw = [l.strip() for l in f.readlines()]\n",
        "        test = list()\n",
        "        start_of_sentence = 0\n",
        "        for i in range(len(test_raw)):\n",
        "            if test_raw[i] == '': # end of sentence\n",
        "                sent = list()\n",
        "                tags = list()\n",
        "                for l in test_raw[start_of_sentence:i]:\n",
        "                    l = l.split(' ')\n",
        "                    sent.append(l[0])\n",
        "                    tags.append(l[-1])\n",
        "                test.append((sent, tags))\n",
        "                start_of_sentence = i+1\n",
        "    \n",
        "    return train, valid, test"
      ],
      "metadata": {
        "id": "NgxT6t9ApO91"
      },
      "execution_count": 1,
      "outputs": []
    },
    {
      "cell_type": "code",
      "source": [
        "train, valid, test = load_data()\n",
        "# print(train)\n",
        "# print(valid)\n",
        "# print(test)"
      ],
      "metadata": {
        "id": "f9RJL9iHpTI5"
      },
      "execution_count": 2,
      "outputs": []
    },
    {
      "cell_type": "code",
      "source": [
        "def export_to_file(export_file_path, data):\n",
        "  tag_to_idx = {'O': 0, 'B-PER': 1, 'I-PER': 2, 'B-ORG': 3, 'I-ORG': 4, 'B-LOC': 5, 'I-LOC': 6, 'B-MISC': 7, 'I-MISC': 8}\n",
        "  with open(export_file_path, \"w\") as f:\n",
        "      for tokens, tags in data:\n",
        "          if len(tokens) > 0:\n",
        "              f.write(\n",
        "                  str(len(tokens))\n",
        "                  + \"\\t\"\n",
        "                  + \"\\t\".join(tokens)\n",
        "                  + \"\\t\"\n",
        "                  + \"\\t\".join([str(tag_to_idx[tag]) for tag in tags])\n",
        "                  + \"\\n\"\n",
        "              )\n",
        "\n",
        "\n",
        "# os.mkdir(\"data\")\n",
        "export_to_file(\"./data/trans_train.txt\", train)\n",
        "export_to_file(\"./data/trans_valid.txt\", valid)\n",
        "export_to_file(\"./data/trans_test.txt\", test)"
      ],
      "metadata": {
        "id": "Q3qX_-jDzmPL"
      },
      "execution_count": 31,
      "outputs": []
    },
    {
      "cell_type": "markdown",
      "metadata": {
        "id": "W7t4EDzKmv6w"
      },
      "source": [
        "## Install the open source datasets library from HuggingFace"
      ]
    },
    {
      "cell_type": "code",
      "execution_count": 3,
      "metadata": {
        "id": "c3CD5yR7mv6x",
        "outputId": "25754cc8-169a-43c2-a4c3-6d6153fd7140",
        "colab": {
          "base_uri": "https://localhost:8080/"
        }
      },
      "outputs": [
        {
          "output_type": "stream",
          "name": "stdout",
          "text": [
            "Looking in indexes: https://pypi.org/simple, https://us-python.pkg.dev/colab-wheels/public/simple/\n",
            "Requirement already satisfied: datasets in /usr/local/lib/python3.7/dist-packages (2.7.0)\n",
            "Requirement already satisfied: pyyaml>=5.1 in /usr/local/lib/python3.7/dist-packages (from datasets) (6.0)\n",
            "Requirement already satisfied: xxhash in /usr/local/lib/python3.7/dist-packages (from datasets) (3.1.0)\n",
            "Requirement already satisfied: tqdm>=4.62.1 in /usr/local/lib/python3.7/dist-packages (from datasets) (4.64.1)\n",
            "Requirement already satisfied: numpy>=1.17 in /usr/local/lib/python3.7/dist-packages (from datasets) (1.21.6)\n",
            "Requirement already satisfied: huggingface-hub<1.0.0,>=0.2.0 in /usr/local/lib/python3.7/dist-packages (from datasets) (0.11.0)\n",
            "Requirement already satisfied: importlib-metadata in /usr/local/lib/python3.7/dist-packages (from datasets) (4.13.0)\n",
            "Requirement already satisfied: requests>=2.19.0 in /usr/local/lib/python3.7/dist-packages (from datasets) (2.23.0)\n",
            "Requirement already satisfied: pandas in /usr/local/lib/python3.7/dist-packages (from datasets) (1.3.5)\n",
            "Requirement already satisfied: fsspec[http]>=2021.11.1 in /usr/local/lib/python3.7/dist-packages (from datasets) (2022.10.0)\n",
            "Requirement already satisfied: dill<0.3.7 in /usr/local/lib/python3.7/dist-packages (from datasets) (0.3.6)\n",
            "Requirement already satisfied: packaging in /usr/local/lib/python3.7/dist-packages (from datasets) (21.3)\n",
            "Requirement already satisfied: responses<0.19 in /usr/local/lib/python3.7/dist-packages (from datasets) (0.18.0)\n",
            "Requirement already satisfied: pyarrow>=6.0.0 in /usr/local/lib/python3.7/dist-packages (from datasets) (6.0.1)\n",
            "Requirement already satisfied: multiprocess in /usr/local/lib/python3.7/dist-packages (from datasets) (0.70.14)\n",
            "Requirement already satisfied: aiohttp in /usr/local/lib/python3.7/dist-packages (from datasets) (3.8.3)\n",
            "Requirement already satisfied: async-timeout<5.0,>=4.0.0a3 in /usr/local/lib/python3.7/dist-packages (from aiohttp->datasets) (4.0.2)\n",
            "Requirement already satisfied: attrs>=17.3.0 in /usr/local/lib/python3.7/dist-packages (from aiohttp->datasets) (22.1.0)\n",
            "Requirement already satisfied: charset-normalizer<3.0,>=2.0 in /usr/local/lib/python3.7/dist-packages (from aiohttp->datasets) (2.1.1)\n",
            "Requirement already satisfied: asynctest==0.13.0 in /usr/local/lib/python3.7/dist-packages (from aiohttp->datasets) (0.13.0)\n",
            "Requirement already satisfied: typing-extensions>=3.7.4 in /usr/local/lib/python3.7/dist-packages (from aiohttp->datasets) (4.1.1)\n",
            "Requirement already satisfied: aiosignal>=1.1.2 in /usr/local/lib/python3.7/dist-packages (from aiohttp->datasets) (1.3.1)\n",
            "Requirement already satisfied: yarl<2.0,>=1.0 in /usr/local/lib/python3.7/dist-packages (from aiohttp->datasets) (1.8.1)\n",
            "Requirement already satisfied: frozenlist>=1.1.1 in /usr/local/lib/python3.7/dist-packages (from aiohttp->datasets) (1.3.3)\n",
            "Requirement already satisfied: multidict<7.0,>=4.5 in /usr/local/lib/python3.7/dist-packages (from aiohttp->datasets) (6.0.2)\n",
            "Requirement already satisfied: filelock in /usr/local/lib/python3.7/dist-packages (from huggingface-hub<1.0.0,>=0.2.0->datasets) (3.8.0)\n",
            "Requirement already satisfied: pyparsing!=3.0.5,>=2.0.2 in /usr/local/lib/python3.7/dist-packages (from packaging->datasets) (3.0.9)\n",
            "Requirement already satisfied: urllib3!=1.25.0,!=1.25.1,<1.26,>=1.21.1 in /usr/local/lib/python3.7/dist-packages (from requests>=2.19.0->datasets) (1.25.11)\n",
            "Requirement already satisfied: certifi>=2017.4.17 in /usr/local/lib/python3.7/dist-packages (from requests>=2.19.0->datasets) (2022.9.24)\n",
            "Requirement already satisfied: idna<3,>=2.5 in /usr/local/lib/python3.7/dist-packages (from requests>=2.19.0->datasets) (2.10)\n",
            "Requirement already satisfied: chardet<4,>=3.0.2 in /usr/local/lib/python3.7/dist-packages (from requests>=2.19.0->datasets) (3.0.4)\n",
            "Requirement already satisfied: zipp>=0.5 in /usr/local/lib/python3.7/dist-packages (from importlib-metadata->datasets) (3.10.0)\n",
            "Requirement already satisfied: python-dateutil>=2.7.3 in /usr/local/lib/python3.7/dist-packages (from pandas->datasets) (2.8.2)\n",
            "Requirement already satisfied: pytz>=2017.3 in /usr/local/lib/python3.7/dist-packages (from pandas->datasets) (2022.6)\n",
            "Requirement already satisfied: six>=1.5 in /usr/local/lib/python3.7/dist-packages (from python-dateutil>=2.7.3->pandas->datasets) (1.15.0)\n",
            "--2022-11-21 15:16:27--  https://raw.githubusercontent.com/sighsmile/conlleval/master/conlleval.py\n",
            "Resolving raw.githubusercontent.com (raw.githubusercontent.com)... 185.199.108.133, 185.199.109.133, 185.199.110.133, ...\n",
            "Connecting to raw.githubusercontent.com (raw.githubusercontent.com)|185.199.108.133|:443... connected.\n",
            "HTTP request sent, awaiting response... 200 OK\n",
            "Length: 7502 (7.3K) [text/plain]\n",
            "Saving to: ‘conlleval.py.1’\n",
            "\n",
            "conlleval.py.1      100%[===================>]   7.33K  --.-KB/s    in 0s      \n",
            "\n",
            "2022-11-21 15:16:27 (57.6 MB/s) - ‘conlleval.py.1’ saved [7502/7502]\n",
            "\n"
          ]
        }
      ],
      "source": [
        "!pip3 install datasets\n",
        "!wget https://raw.githubusercontent.com/sighsmile/conlleval/master/conlleval.py"
      ]
    },
    {
      "cell_type": "code",
      "execution_count": 16,
      "metadata": {
        "id": "QrtOMFZSmv60"
      },
      "outputs": [],
      "source": [
        "import os\n",
        "import numpy as np\n",
        "import tensorflow as tf\n",
        "from tensorflow import keras\n",
        "from tensorflow.keras import layers\n",
        "from collections import Counter\n",
        "from conlleval import evaluate"
      ]
    },
    {
      "cell_type": "markdown",
      "metadata": {
        "id": "72SewqL6mv60"
      },
      "source": [
        "We will be using the transformer implementation from this fantastic\n",
        "[example](https://keras.io/examples/nlp/text_classification_with_transformer/).\n",
        "\n",
        "Let's start by defining a `TransformerBlock` layer:"
      ]
    },
    {
      "cell_type": "code",
      "execution_count": 5,
      "metadata": {
        "id": "tpgZbtuLmv61"
      },
      "outputs": [],
      "source": [
        "\n",
        "class TransformerBlock(layers.Layer):\n",
        "    def __init__(self, embed_dim, num_heads, ff_dim, rate=0.1):\n",
        "        super(TransformerBlock, self).__init__()\n",
        "        self.att = keras.layers.MultiHeadAttention(\n",
        "            num_heads=num_heads, key_dim=embed_dim\n",
        "        )\n",
        "        self.ffn = keras.Sequential(\n",
        "            [\n",
        "                keras.layers.Dense(ff_dim, activation=\"relu\"),\n",
        "                keras.layers.Dense(embed_dim),\n",
        "            ]\n",
        "        )\n",
        "        self.layernorm1 = keras.layers.LayerNormalization(epsilon=1e-6)\n",
        "        self.layernorm2 = keras.layers.LayerNormalization(epsilon=1e-6)\n",
        "        self.dropout1 = keras.layers.Dropout(rate)\n",
        "        self.dropout2 = keras.layers.Dropout(rate)\n",
        "\n",
        "    def call(self, inputs, training=False):\n",
        "        attn_output = self.att(inputs, inputs)\n",
        "        attn_output = self.dropout1(attn_output, training=training)\n",
        "        out1 = self.layernorm1(inputs + attn_output)\n",
        "        ffn_output = self.ffn(out1)\n",
        "        ffn_output = self.dropout2(ffn_output, training=training)\n",
        "        return self.layernorm2(out1 + ffn_output)\n"
      ]
    },
    {
      "cell_type": "markdown",
      "metadata": {
        "id": "UQeuPEY3mv63"
      },
      "source": [
        "Next, let's define a `TokenAndPositionEmbedding` layer:"
      ]
    },
    {
      "cell_type": "code",
      "execution_count": 6,
      "metadata": {
        "id": "ijdz7YTPmv64"
      },
      "outputs": [],
      "source": [
        "\n",
        "class TokenAndPositionEmbedding(layers.Layer):\n",
        "    def __init__(self, maxlen, vocab_size, embed_dim):\n",
        "        super(TokenAndPositionEmbedding, self).__init__()\n",
        "        self.token_emb = keras.layers.Embedding(\n",
        "            input_dim=vocab_size, output_dim=embed_dim\n",
        "        )\n",
        "        self.pos_emb = keras.layers.Embedding(input_dim=maxlen, output_dim=embed_dim)\n",
        "\n",
        "    def call(self, inputs):\n",
        "        maxlen = tf.shape(inputs)[-1]\n",
        "        positions = tf.range(start=0, limit=maxlen, delta=1)\n",
        "        position_embeddings = self.pos_emb(positions)\n",
        "        token_embeddings = self.token_emb(inputs)\n",
        "        return token_embeddings + position_embeddings\n"
      ]
    },
    {
      "cell_type": "markdown",
      "metadata": {
        "id": "UCInmIdkmv65"
      },
      "source": [
        "## Build the NER model class as a `keras.Model` subclass"
      ]
    },
    {
      "cell_type": "code",
      "execution_count": 7,
      "metadata": {
        "id": "40JEk5nRmv66"
      },
      "outputs": [],
      "source": [
        "\n",
        "class NERModel(keras.Model):\n",
        "    def __init__(\n",
        "        self, num_tags, vocab_size, maxlen=128, embed_dim=32, num_heads=2, ff_dim=32\n",
        "    ):\n",
        "        super(NERModel, self).__init__()\n",
        "        self.embedding_layer = TokenAndPositionEmbedding(maxlen, vocab_size, embed_dim)\n",
        "        self.transformer_block = TransformerBlock(embed_dim, num_heads, ff_dim)\n",
        "        self.dropout1 = layers.Dropout(0.1)\n",
        "        self.ff = layers.Dense(ff_dim, activation=\"relu\")\n",
        "        self.dropout2 = layers.Dropout(0.1)\n",
        "        self.ff_final = layers.Dense(num_tags, activation=\"softmax\")\n",
        "\n",
        "    def call(self, inputs, training=False):\n",
        "        x = self.embedding_layer(inputs)\n",
        "        x = self.transformer_block(x)\n",
        "        x = self.dropout1(x, training=training)\n",
        "        x = self.ff(x)\n",
        "        x = self.dropout2(x, training=training)\n",
        "        x = self.ff_final(x)\n",
        "        return x\n"
      ]
    },
    {
      "cell_type": "markdown",
      "metadata": {
        "id": "sRQUgl6Smv68"
      },
      "source": [
        "## Make the NER label lookup table\n",
        "\n",
        "Note that we start our label numbering from 1 since 0 will be reserved for padding. We\n",
        "have a total of 10 labels: 9 from the NER dataset and one for padding."
      ]
    },
    {
      "cell_type": "code",
      "execution_count": 17,
      "metadata": {
        "id": "nRYXDeS5mv68",
        "outputId": "73299356-7a14-4940-c686-b945b3e3fdb1",
        "colab": {
          "base_uri": "https://localhost:8080/"
        }
      },
      "outputs": [
        {
          "output_type": "stream",
          "name": "stdout",
          "text": [
            "{0: '[PAD]', 1: 'O', 2: 'B-PER', 3: 'I-PER', 4: 'B-ORG', 5: 'I-ORG', 6: 'B-LOC', 7: 'I-LOC', 8: 'B-MISC', 9: 'I-MISC'}\n",
            "{'[PAD]': 0, 'O': 1, 'B-PER': 2, 'I-PER': 3, 'B-ORG': 4, 'I-ORG': 5, 'B-LOC': 6, 'I-LOC': 7, 'B-MISC': 8, 'I-MISC': 9}\n"
          ]
        }
      ],
      "source": [
        "\n",
        "def make_tag_lookup_table():\n",
        "    iob_labels = [\"B\", \"I\"]\n",
        "    ner_labels = [\"PER\", \"ORG\", \"LOC\", \"MISC\"]\n",
        "    all_labels = [(label1, label2) for label2 in ner_labels for label1 in iob_labels]\n",
        "    all_labels = [\"-\".join([a, b]) for a, b in all_labels]\n",
        "    all_labels = [\"[PAD]\", \"O\"] + all_labels\n",
        "    return dict(zip(range(0, len(all_labels) + 1), all_labels))\n",
        "\n",
        "\n",
        "mapping = make_tag_lookup_table()\n",
        "print(mapping)\n",
        "\n",
        "tag_to_idx = {mapping[idx]: idx for idx in mapping}\n",
        "print(tag_to_idx)"
      ]
    },
    {
      "cell_type": "markdown",
      "metadata": {
        "id": "GlzEGy1vmv69"
      },
      "source": [
        "Get a list of all tokens in the training dataset. This will be used to create the\n",
        "vocabulary."
      ]
    },
    {
      "cell_type": "code",
      "execution_count": 18,
      "metadata": {
        "id": "cNqzjdPpmv69",
        "outputId": "386b5ee7-05c2-4134-b1c7-1f5b7ce7e1d7",
        "colab": {
          "base_uri": "https://localhost:8080/"
        }
      },
      "outputs": [
        {
          "output_type": "stream",
          "name": "stdout",
          "text": [
            "21010\n"
          ]
        }
      ],
      "source": [
        "all_tokens = []\n",
        "for record in train:\n",
        "  for token in record[0]:\n",
        "    all_tokens.append(token)\n",
        "    \n",
        "all_tokens_array = np.array(list(map(str.lower, all_tokens)))\n",
        "\n",
        "counter = Counter(all_tokens_array)\n",
        "print(len(counter))\n",
        "\n",
        "num_tags = len(mapping)\n",
        "vocab_size = 20000\n",
        "\n",
        "# We only take (vocab_size - 2) most commons words from the training data since\n",
        "# the `StringLookup` class uses 2 additional tokens - one denoting an unknown\n",
        "# token and another one denoting a masking token\n",
        "vocabulary = [token for token, count in counter.most_common(vocab_size - 2)]\n",
        "\n",
        "# The StringLook class will convert tokens to token IDs\n",
        "lookup_layer = keras.layers.StringLookup(\n",
        "    vocabulary=vocabulary\n",
        ")"
      ]
    },
    {
      "cell_type": "markdown",
      "metadata": {
        "id": "ix1YGBw-mv6-"
      },
      "source": [
        "Create 2 new `Dataset` objects from the training and validation data"
      ]
    },
    {
      "cell_type": "code",
      "execution_count": 11,
      "metadata": {
        "id": "1PFkmZUGmv6-"
      },
      "outputs": [],
      "source": [
        "# train_data = tf.data.TextLineDataset(\"./data/conll_train.txt\")\n",
        "# val_data = tf.data.TextLineDataset(\"./data/conll_val.txt\")"
      ]
    },
    {
      "cell_type": "code",
      "source": [
        "data_dir = os.path.join(os.getcwd(), \"data\")\n",
        "tans_train_path = os.path.join(data_dir, 'trans_train.txt')\n",
        "tans_valid_path = os.path.join(data_dir, 'trans_valid.txt')\n",
        "tans_test_path  = os.path.join(data_dir, 'trans_test.txt')\n",
        "\n",
        "train_data = tf.data.TextLineDataset(tans_train_path)\n",
        "val_data = tf.data.TextLineDataset(tans_valid_path)\n",
        "test_data = tf.data.TextLineDataset(tans_test_path)\n",
        "\n",
        "# train_data = tf.data.Dataset.from_tensor_slices(train)\n",
        "# valid_data = tf.data.Dataset.from_tensor_slices(valid)\n",
        "# test_data = tf.data.Dataset.from_tensor_slices(test)"
      ],
      "metadata": {
        "id": "wEENNlJJqauj"
      },
      "execution_count": 26,
      "outputs": []
    },
    {
      "cell_type": "markdown",
      "metadata": {
        "id": "rUaCeV7lmv6-"
      },
      "source": [
        "Print out one line to make sure it looks good. The first record in the line is the number of tokens.\n",
        "After that we will have all the tokens followed by all the ner tags."
      ]
    },
    {
      "cell_type": "code",
      "execution_count": 24,
      "metadata": {
        "id": "rJo0_eoPmv6_",
        "outputId": "f81b0e3e-29b9-4e9c-a4e8-5c0132adf223",
        "colab": {
          "base_uri": "https://localhost:8080/"
        }
      },
      "outputs": [
        {
          "output_type": "stream",
          "name": "stdout",
          "text": [
            "[b'1\\t-DOCSTART-\\t0', b'9\\tEU\\trejects\\tGerman\\tcall\\tto\\tboycott\\tBritish\\tlamb\\t.\\t3\\t0\\t7\\t0\\t0\\t0\\t7\\t0\\t0']\n"
          ]
        }
      ],
      "source": [
        "print(list(train_data.take(2).as_numpy_iterator()))"
      ]
    },
    {
      "cell_type": "markdown",
      "metadata": {
        "id": "pMBvDvP9mv6_"
      },
      "source": [
        "We will be using the following map function to transform the data in the dataset:"
      ]
    },
    {
      "cell_type": "code",
      "execution_count": 27,
      "metadata": {
        "id": "FlqTDPCMmv7A"
      },
      "outputs": [],
      "source": [
        "\n",
        "def map_record_to_training_data(record):\n",
        "    record = tf.strings.split(record, sep=\"\\t\")\n",
        "    length = tf.strings.to_number(record[0], out_type=tf.int32)\n",
        "    tokens = record[1 : length + 1]\n",
        "    tags = record[length + 1 :]\n",
        "    tags = tf.strings.to_number(tags, out_type=tf.int64)\n",
        "    tags += 1\n",
        "    return tokens, tags\n",
        "\n",
        "\n",
        "def lowercase_and_convert_to_ids(tokens):\n",
        "    tokens = tf.strings.lower(tokens)\n",
        "    return lookup_layer(tokens)\n",
        "\n",
        "\n",
        "# We use `padded_batch` here because each record in the dataset has a\n",
        "# different length.\n",
        "batch_size = 32\n",
        "train_dataset = (\n",
        "    train_data.map(map_record_to_training_data)\n",
        "    .map(lambda x, y: (lowercase_and_convert_to_ids(x), y))\n",
        "    .padded_batch(batch_size)\n",
        ")\n",
        "val_dataset = (\n",
        "    val_data.map(map_record_to_training_data)\n",
        "    .map(lambda x, y: (lowercase_and_convert_to_ids(x), y))\n",
        "    .padded_batch(batch_size)\n",
        ")\n",
        "\n",
        "ner_model = NERModel(num_tags, vocab_size, embed_dim=32, num_heads=4, ff_dim=64)"
      ]
    },
    {
      "cell_type": "markdown",
      "metadata": {
        "id": "IFGMmk6jmv7A"
      },
      "source": [
        "We will be using a custom loss function that will ignore the loss from padded tokens."
      ]
    },
    {
      "cell_type": "code",
      "execution_count": 28,
      "metadata": {
        "id": "zPcG5EHpmv7B"
      },
      "outputs": [],
      "source": [
        "\n",
        "class CustomNonPaddingTokenLoss(keras.losses.Loss):\n",
        "    def __init__(self, name=\"custom_ner_loss\"):\n",
        "        super().__init__(name=name)\n",
        "\n",
        "    def call(self, y_true, y_pred):\n",
        "        loss_fn = keras.losses.SparseCategoricalCrossentropy(\n",
        "            from_logits=True, reduction=keras.losses.Reduction.NONE\n",
        "        )\n",
        "        loss = loss_fn(y_true, y_pred)\n",
        "        mask = tf.cast((y_true > 0), dtype=tf.float32)\n",
        "        loss = loss * mask\n",
        "        return tf.reduce_sum(loss) / tf.reduce_sum(mask)\n",
        "\n",
        "\n",
        "loss = CustomNonPaddingTokenLoss()"
      ]
    },
    {
      "cell_type": "markdown",
      "metadata": {
        "id": "KpoXb3_Mmv7B"
      },
      "source": [
        "## Compile and fit the model"
      ]
    },
    {
      "cell_type": "code",
      "execution_count": 29,
      "metadata": {
        "id": "aJ38GuaXmv7B",
        "outputId": "2cfcaa6a-3a15-4d0f-827d-c29fe6d4ef58",
        "colab": {
          "base_uri": "https://localhost:8080/"
        }
      },
      "outputs": [
        {
          "output_type": "stream",
          "name": "stdout",
          "text": [
            "Epoch 1/10\n"
          ]
        },
        {
          "output_type": "stream",
          "name": "stderr",
          "text": [
            "/usr/local/lib/python3.7/dist-packages/tensorflow/python/util/dispatch.py:1082: UserWarning: \"`sparse_categorical_crossentropy` received `from_logits=True`, but the `output` argument was produced by a sigmoid or softmax activation and thus does not represent logits. Was this intended?\"\n",
            "  return dispatch_target(*args, **kwargs)\n"
          ]
        },
        {
          "output_type": "stream",
          "name": "stdout",
          "text": [
            "469/469 [==============================] - 24s 47ms/step - loss: 0.6005\n",
            "Epoch 2/10\n",
            "469/469 [==============================] - 21s 44ms/step - loss: 0.2515\n",
            "Epoch 3/10\n",
            "469/469 [==============================] - 21s 44ms/step - loss: 0.1533\n",
            "Epoch 4/10\n",
            "469/469 [==============================] - 20s 43ms/step - loss: 0.1186\n",
            "Epoch 5/10\n",
            "469/469 [==============================] - 21s 44ms/step - loss: 0.0964\n",
            "Epoch 6/10\n",
            "469/469 [==============================] - 22s 47ms/step - loss: 0.0791\n",
            "Epoch 7/10\n",
            "469/469 [==============================] - 20s 44ms/step - loss: 0.0690\n",
            "Epoch 8/10\n",
            "469/469 [==============================] - 20s 43ms/step - loss: 0.0599\n",
            "Epoch 9/10\n",
            "469/469 [==============================] - 23s 48ms/step - loss: 0.0530\n",
            "Epoch 10/10\n",
            "469/469 [==============================] - 21s 44ms/step - loss: 0.0448\n",
            "tf.Tensor([[  989 10951   205   629     6  3939   216  5774]], shape=(1, 8), dtype=int64)\n",
            "1/1 [==============================] - 0s 281ms/step\n",
            "['B-ORG', 'O', 'B-MISC', 'O', 'O', 'O', 'B-MISC', 'O']\n"
          ]
        }
      ],
      "source": [
        "ner_model.compile(optimizer=\"adam\", loss=loss)\n",
        "ner_model.fit(train_dataset, epochs=10)\n",
        "\n",
        "\n",
        "def tokenize_and_convert_to_ids(text):\n",
        "    tokens = text.split()\n",
        "    return lowercase_and_convert_to_ids(tokens)\n",
        "\n",
        "\n",
        "# Sample inference using the trained model\n",
        "sample_input = tokenize_and_convert_to_ids(\n",
        "    \"eu rejects german call to boycott british lamb\"\n",
        ")\n",
        "sample_input = tf.reshape(sample_input, shape=[1, -1])\n",
        "print(sample_input)\n",
        "\n",
        "output = ner_model.predict(sample_input)\n",
        "prediction = np.argmax(output, axis=-1)[0]\n",
        "prediction = [mapping[i] for i in prediction]\n",
        "\n",
        "# eu -> B-ORG, german -> B-MISC, british -> B-MISC\n",
        "print(prediction)"
      ]
    },
    {
      "cell_type": "markdown",
      "metadata": {
        "id": "RcmjT3DNmv7C"
      },
      "source": [
        "## Metrics calculation\n",
        "\n",
        "Here is a function to calculate the metrics. The function calculates F1 score for the\n",
        "overall NER dataset as well as individual scores for each NER tag."
      ]
    },
    {
      "cell_type": "code",
      "execution_count": 32,
      "metadata": {
        "id": "SJOX1gJjmv7C",
        "outputId": "fa265dae-b218-4884-bb7c-2d2d4959a8f7",
        "colab": {
          "base_uri": "https://localhost:8080/"
        }
      },
      "outputs": [
        {
          "output_type": "stream",
          "name": "stdout",
          "text": [
            "1/1 [==============================] - 0s 286ms/step\n",
            "1/1 [==============================] - 0s 25ms/step\n",
            "1/1 [==============================] - 0s 29ms/step\n",
            "1/1 [==============================] - 0s 29ms/step\n",
            "1/1 [==============================] - 0s 26ms/step\n",
            "1/1 [==============================] - 0s 30ms/step\n",
            "1/1 [==============================] - 0s 32ms/step\n",
            "1/1 [==============================] - 0s 19ms/step\n",
            "1/1 [==============================] - 0s 23ms/step\n",
            "1/1 [==============================] - 0s 34ms/step\n",
            "1/1 [==============================] - 0s 27ms/step\n",
            "1/1 [==============================] - 0s 40ms/step\n",
            "1/1 [==============================] - 0s 29ms/step\n",
            "1/1 [==============================] - 0s 24ms/step\n",
            "1/1 [==============================] - 0s 20ms/step\n",
            "1/1 [==============================] - 0s 24ms/step\n",
            "1/1 [==============================] - 0s 20ms/step\n",
            "1/1 [==============================] - 0s 22ms/step\n",
            "1/1 [==============================] - 0s 30ms/step\n",
            "1/1 [==============================] - 0s 25ms/step\n",
            "1/1 [==============================] - 0s 26ms/step\n",
            "1/1 [==============================] - 0s 30ms/step\n",
            "1/1 [==============================] - 0s 25ms/step\n",
            "1/1 [==============================] - 0s 38ms/step\n",
            "1/1 [==============================] - 0s 32ms/step\n",
            "1/1 [==============================] - 0s 41ms/step\n",
            "1/1 [==============================] - 0s 29ms/step\n",
            "1/1 [==============================] - 0s 26ms/step\n",
            "1/1 [==============================] - 0s 31ms/step\n",
            "1/1 [==============================] - 0s 26ms/step\n",
            "1/1 [==============================] - 0s 30ms/step\n",
            "1/1 [==============================] - 0s 32ms/step\n",
            "1/1 [==============================] - 0s 30ms/step\n",
            "1/1 [==============================] - 0s 32ms/step\n",
            "1/1 [==============================] - 0s 34ms/step\n",
            "1/1 [==============================] - 0s 29ms/step\n",
            "1/1 [==============================] - 0s 31ms/step\n",
            "1/1 [==============================] - 0s 38ms/step\n",
            "1/1 [==============================] - 0s 29ms/step\n",
            "1/1 [==============================] - 0s 31ms/step\n",
            "1/1 [==============================] - 0s 28ms/step\n",
            "1/1 [==============================] - 0s 29ms/step\n",
            "1/1 [==============================] - 0s 32ms/step\n",
            "1/1 [==============================] - 0s 27ms/step\n",
            "1/1 [==============================] - 0s 30ms/step\n",
            "1/1 [==============================] - 0s 27ms/step\n",
            "1/1 [==============================] - 0s 28ms/step\n",
            "1/1 [==============================] - 0s 28ms/step\n",
            "1/1 [==============================] - 0s 36ms/step\n",
            "1/1 [==============================] - 0s 30ms/step\n",
            "1/1 [==============================] - 0s 36ms/step\n",
            "1/1 [==============================] - 0s 48ms/step\n",
            "1/1 [==============================] - 0s 33ms/step\n",
            "1/1 [==============================] - 0s 31ms/step\n",
            "1/1 [==============================] - 0s 36ms/step\n",
            "1/1 [==============================] - 0s 27ms/step\n",
            "1/1 [==============================] - 0s 30ms/step\n",
            "1/1 [==============================] - 0s 24ms/step\n",
            "1/1 [==============================] - 0s 20ms/step\n",
            "1/1 [==============================] - 0s 27ms/step\n",
            "1/1 [==============================] - 0s 32ms/step\n",
            "1/1 [==============================] - 0s 34ms/step\n",
            "1/1 [==============================] - 0s 30ms/step\n",
            "1/1 [==============================] - 0s 25ms/step\n",
            "1/1 [==============================] - 0s 35ms/step\n",
            "1/1 [==============================] - 0s 22ms/step\n",
            "1/1 [==============================] - 0s 21ms/step\n",
            "1/1 [==============================] - 0s 19ms/step\n",
            "1/1 [==============================] - 0s 20ms/step\n",
            "1/1 [==============================] - 0s 20ms/step\n",
            "1/1 [==============================] - 0s 27ms/step\n",
            "1/1 [==============================] - 0s 28ms/step\n",
            "1/1 [==============================] - 0s 56ms/step\n",
            "1/1 [==============================] - 0s 22ms/step\n",
            "1/1 [==============================] - 0s 29ms/step\n",
            "1/1 [==============================] - 0s 27ms/step\n",
            "1/1 [==============================] - 0s 40ms/step\n",
            "1/1 [==============================] - 0s 33ms/step\n",
            "1/1 [==============================] - 0s 30ms/step\n",
            "1/1 [==============================] - 0s 30ms/step\n",
            "1/1 [==============================] - 0s 22ms/step\n",
            "1/1 [==============================] - 0s 20ms/step\n",
            "1/1 [==============================] - 0s 28ms/step\n",
            "1/1 [==============================] - 0s 32ms/step\n",
            "1/1 [==============================] - 0s 32ms/step\n",
            "1/1 [==============================] - 0s 57ms/step\n",
            "1/1 [==============================] - 0s 41ms/step\n",
            "1/1 [==============================] - 0s 33ms/step\n",
            "1/1 [==============================] - 0s 30ms/step\n",
            "1/1 [==============================] - 0s 36ms/step\n",
            "1/1 [==============================] - 0s 32ms/step\n",
            "1/1 [==============================] - 0s 27ms/step\n",
            "1/1 [==============================] - 0s 31ms/step\n",
            "1/1 [==============================] - 0s 30ms/step\n",
            "1/1 [==============================] - 0s 32ms/step\n",
            "1/1 [==============================] - 0s 35ms/step\n",
            "1/1 [==============================] - 0s 46ms/step\n",
            "1/1 [==============================] - 0s 29ms/step\n",
            "1/1 [==============================] - 0s 31ms/step\n",
            "1/1 [==============================] - 0s 29ms/step\n",
            "1/1 [==============================] - 0s 32ms/step\n",
            "1/1 [==============================] - 0s 31ms/step\n",
            "1/1 [==============================] - 0s 32ms/step\n",
            "1/1 [==============================] - 0s 30ms/step\n",
            "1/1 [==============================] - 0s 32ms/step\n",
            "1/1 [==============================] - 0s 28ms/step\n",
            "1/1 [==============================] - 0s 29ms/step\n",
            "1/1 [==============================] - 0s 29ms/step\n",
            "1/1 [==============================] - 0s 23ms/step\n",
            "processed 51578 tokens with 5942 phrases; found: 5588 phrases; correct: 4142.\n",
            "accuracy:  65.62%; (non-O)\n",
            "accuracy:  93.60%; precision:  74.12%; recall:  69.71%; FB1:  71.85\n",
            "              LOC: precision:  83.81%; recall:  81.16%; FB1:  82.47  1779\n",
            "             MISC: precision:  76.76%; recall:  68.76%; FB1:  72.54  826\n",
            "              ORG: precision:  68.19%; recall:  61.07%; FB1:  64.44  1201\n",
            "              PER: precision:  67.23%; recall:  65.04%; FB1:  66.11  1782\n"
          ]
        }
      ],
      "source": [
        "\n",
        "def calculate_metrics(dataset):\n",
        "    all_true_tag_ids, all_predicted_tag_ids = [], []\n",
        "\n",
        "    for x, y in dataset:\n",
        "        output = ner_model.predict(x)\n",
        "        predictions = np.argmax(output, axis=-1)\n",
        "        predictions = np.reshape(predictions, [-1])\n",
        "\n",
        "        true_tag_ids = np.reshape(y, [-1])\n",
        "\n",
        "        mask = (true_tag_ids > 0) & (predictions > 0)\n",
        "        true_tag_ids = true_tag_ids[mask]\n",
        "        predicted_tag_ids = predictions[mask]\n",
        "\n",
        "        all_true_tag_ids.append(true_tag_ids)\n",
        "        all_predicted_tag_ids.append(predicted_tag_ids)\n",
        "\n",
        "    all_true_tag_ids = np.concatenate(all_true_tag_ids)\n",
        "    all_predicted_tag_ids = np.concatenate(all_predicted_tag_ids)\n",
        "\n",
        "    predicted_tags = [mapping[tag] for tag in all_predicted_tag_ids]\n",
        "    real_tags = [mapping[tag] for tag in all_true_tag_ids]\n",
        "\n",
        "    evaluate(real_tags, predicted_tags)\n",
        "\n",
        "\n",
        "calculate_metrics(val_dataset)"
      ]
    },
    {
      "cell_type": "markdown",
      "metadata": {
        "id": "Tf5UZhcnmv7C"
      },
      "source": [
        "## Conclusions\n",
        "\n",
        "In this exercise, we created a simple transformer based named entity recognition model.\n",
        "We trained it on the CoNLL 2003 shared task data and got an overall F1 score of around 70%.\n",
        "State of the art NER models fine-tuned on pretrained models such as BERT or ELECTRA can easily\n",
        "get much higher F1 score -between 90-95% on this dataset owing to the inherent knowledge\n",
        "of words as part of the pretraining process and the usage of subword tokenization.\n",
        "\n",
        "You can use the trained model hosted on [Hugging Face Hub](https://huggingface.co/keras-io/ner-with-transformers) and try the demo on [Hugging Face Spaces](https://huggingface.co/spaces/keras-io/ner_with_transformers)."
      ]
    }
  ],
  "metadata": {
    "colab": {
      "name": "ner_transformers",
      "provenance": []
    },
    "kernelspec": {
      "display_name": "Python 3",
      "language": "python",
      "name": "python3"
    },
    "language_info": {
      "codemirror_mode": {
        "name": "ipython",
        "version": 3
      },
      "file_extension": ".py",
      "mimetype": "text/x-python",
      "name": "python",
      "nbconvert_exporter": "python",
      "pygments_lexer": "ipython3",
      "version": "3.7.0"
    }
  },
  "nbformat": 4,
  "nbformat_minor": 0
}