{
 "cells": [
  {
   "cell_type": "markdown",
   "metadata": {},
   "source": [
    "# Assignment 2\n",
    "You should submit the **UniversityNumber.ipynb** file and your final prediction file **UniversityNumber.test.out** to moodle. Make sure your code does not use your local files and that the results are reproducible. Before submitting, please **run your notebook and keep all running logs** so that we can check."
   ]
  },
  {
   "cell_type": "markdown",
   "metadata": {},
   "source": [
    "## 1 Data\n",
    "\n",
    "We will conduct experiments on Conll2003, which contains 14041 sentences, and each sentence is an\u0002notated with the corresponding named entity tags. You can download the dataset from the following\n",
    "link: https://data.deepai.org/conll2003.zip. We only focus on the token and NER tags, which are\n",
    "the first and last columns in the dataset. The dataset is in the IOB format, which is a common format\n",
    "for named entity recognition. The IOB format 1 is a simple way to represent the named entity tags. For\n",
    "example, the sentence “I went to New York City last week” is annotated as follows:\n",
    "\n",
    "    I O\n",
    "    went O\n",
    "    to O\n",
    "    New B-LOC\n",
    "    York I-LOC\n",
    "    City I-LOC\n",
    "    last O\n",
    "    week O"
   ]
  },
  {
   "cell_type": "code",
   "execution_count": 1,
   "metadata": {},
   "outputs": [],
   "source": [
    "def load_data():\n",
    "    # load data\n",
    "    import os\n",
    "    import numpy as np\n",
    "\n",
    "    data_dir = os.path.join(os.getcwd(), \"data\")\n",
    "    train_path = os.path.join(data_dir, 'train.txt')\n",
    "    valid_path = os.path.join(data_dir, 'valid.txt')\n",
    "    test_path  = os.path.join(data_dir, 'test.txt')\n",
    "\n",
    "    with open(train_path, 'r', encoding=\"utf-8\") as f:\n",
    "        train_raw = [l.strip() for l in f.readlines()]\n",
    "        train = list()\n",
    "        start_of_sentence = 0\n",
    "        for i in range(len(train_raw)):\n",
    "            if train_raw[i] == '': # end of sentence\n",
    "                sent = list()\n",
    "                tags = list()\n",
    "                for l in train_raw[start_of_sentence:i]:\n",
    "                    l = l.split(' ')\n",
    "                    sent.append(l[0])\n",
    "                    tags.append(l[-1])\n",
    "                train.append((sent, tags))\n",
    "                start_of_sentence = i+1\n",
    "\n",
    "    with open(valid_path, 'r', encoding=\"utf-8\") as f:\n",
    "        valid_raw = [l.strip() for l in f.readlines()]\n",
    "        valid = list()\n",
    "        start_of_sentence = 0\n",
    "        for i in range(len(valid_raw)):\n",
    "            if valid_raw[i] == '': # end of sentence\n",
    "                sent = list()\n",
    "                tags = list()\n",
    "                for l in valid_raw[start_of_sentence:i]:\n",
    "                    l = l.split(' ')\n",
    "                    sent.append(l[0])\n",
    "                    tags.append(l[-1])\n",
    "                valid.append((sent, tags))\n",
    "                start_of_sentence = i+1\n",
    "    with open(test_path, 'r', encoding=\"utf-8\") as f:\n",
    "        test_raw = [l.strip() for l in f.readlines()]\n",
    "        test = list()\n",
    "        start_of_sentence = 0\n",
    "        for i in range(len(test_raw)):\n",
    "            if test_raw[i] == '': # end of sentence\n",
    "                sent = list()\n",
    "                tags = list()\n",
    "                for l in test_raw[start_of_sentence:i]:\n",
    "                    l = l.split(' ')\n",
    "                    sent.append(l[0])\n",
    "                    tags.append(l[-1])\n",
    "                test.append((sent, tags))\n",
    "                start_of_sentence = i+1\n",
    "    \n",
    "    return train, valid, test"
   ]
  },
  {
   "cell_type": "code",
   "execution_count": 2,
   "metadata": {},
   "outputs": [],
   "source": [
    "train, valid, test = load_data()\n",
    "# print(train)\n",
    "# print(valid)\n",
    "# print(test)"
   ]
  },
  {
   "cell_type": "markdown",
   "metadata": {},
   "source": [
    "## 2 Tagger\n",
    "    You will train your tagger on the train set and evaluate it on the dev set. And then, you may tune the\n",
    "    hyperparameters of your tagger to get the best performance on the dev set. Finally, you will evaluate\n",
    "    your tagger on the test set to get the final performance.\n",
    "\n",
    "    https://en.wikipedia.org/wiki/Inside–outside–beginning_(tagging)\n",
    "\n",
    "    There are some key points you should pay attention to:\n",
    "    • You will batch the sentences in the dataset to accelerate the training process. To batch the sentences,\n",
    "    you may need to pad the sentences to the same length.\n",
    "    • You are free to design the model architecture with (Bi)LSTM or Transformer unit for each part, but\n",
    "    please do not use any pretrained weights in your basic taggers.\n",
    "    • You will adjust the hyperparameters of your tagger to get the best performance on the dev set. The\n",
    "    hyperparameters include the learning rate, batch size, the number of hidden units, the number of\n",
    "    layers, the dropout rate, etc.\n",
    "    • You will use seqeval to evaluate your tagger on the dev set and the test set.\n"
   ]
  },
  {
   "cell_type": "markdown",
   "metadata": {},
   "source": [
    "### 2.1 LSTM Tagger\n",
    "    We will first use an LSTM tagger to solve the NER problem. There is a very simple implementation of the\n",
    "    LSTM tagger on PyTorch website https://pytorch.org/tutorials/beginner/nlp/sequence_models_\n",
    "    tutorial.html. You can refer to this implementation to implement your LSTM tagger.\n"
   ]
  },
  {
   "cell_type": "code",
   "execution_count": 3,
   "metadata": {},
   "outputs": [
    {
     "data": {
      "text/plain": [
       "<torch._C.Generator at 0x2c743e47e70>"
      ]
     },
     "execution_count": 3,
     "metadata": {},
     "output_type": "execute_result"
    }
   ],
   "source": [
    "# Author: Robert Guthrie\n",
    "\n",
    "import torch\n",
    "import torch.nn as nn\n",
    "import torch.nn.functional as F\n",
    "import torch.optim as optim\n",
    "\n",
    "torch.manual_seed(1)"
   ]
  },
  {
   "cell_type": "code",
   "execution_count": null,
   "metadata": {},
   "outputs": [],
   "source": [
    "lstm = nn.LSTM(3, 3)  # Input dim is 3, output dim is 3\n",
    "inputs = [torch.randn(1, 3) for _ in range(5)]  # make a sequence of length 5\n",
    "\n",
    "# initialize the hidden state.\n",
    "hidden = (torch.randn(1, 1, 3),\n",
    "          torch.randn(1, 1, 3))\n",
    "for i in inputs:\n",
    "    # Step through the sequence one element at a time.\n",
    "    # after each step, hidden contains the hidden state.\n",
    "    out, hidden = lstm(i.view(1, 1, -1), hidden)\n",
    "\n",
    "# alternatively, we can do the entire sequence all at once.\n",
    "# the first value returned by LSTM is all of the hidden states throughout\n",
    "# the sequence. the second is just the most recent hidden state\n",
    "# (compare the last slice of \"out\" with \"hidden\" below, they are the same)\n",
    "# The reason for this is that:\n",
    "# \"out\" will give you access to all hidden states in the sequence\n",
    "# \"hidden\" will allow you to continue the sequence and backpropagate,\n",
    "# by passing it as an argument  to the lstm at a later time\n",
    "# Add the extra 2nd dimension\n",
    "inputs = torch.cat(inputs).view(len(inputs), 1, -1)\n",
    "hidden = (torch.randn(1, 1, 3), torch.randn(1, 1, 3))  # clean out hidden state\n",
    "out, hidden = lstm(inputs, hidden)\n",
    "print(out)\n",
    "print(hidden)"
   ]
  },
  {
   "cell_type": "code",
   "execution_count": 6,
   "metadata": {},
   "outputs": [
    {
     "name": "stdout",
     "output_type": "stream",
     "text": [
      "{'O': 0, 'B-ORG': 1, 'B-MISC': 2, 'B-PER': 3, 'I-PER': 4, 'B-LOC': 5, 'I-ORG': 6, 'I-MISC': 7, 'I-LOC': 8}\n"
     ]
    }
   ],
   "source": [
    "# prepare the data\n",
    "def prepare_sequence(seq, to_ix):\n",
    "    idxs = [to_ix[w] for w in seq]\n",
    "    return torch.tensor(idxs, dtype=torch.long)\n",
    "\n",
    "# Tags are: DET - determiner; NN - noun; V - verb\n",
    "# For example, the word \"The\" is a determiner\n",
    "training_data = train\n",
    "word_to_ix = {}\n",
    "tag_to_ix = {}  # Assign each tag with a unique index\n",
    "# For each words-list (sentence) and tags-list in each tuple of training_data\n",
    "for sent, tags in training_data:\n",
    "    for word in sent:\n",
    "        if word not in word_to_ix:  # word has not been assigned an index yet\n",
    "            word_to_ix[word] = len(word_to_ix)  # Assign each word with a unique index\n",
    "    for word in tags:\n",
    "        if word not in tag_to_ix:  # word has not been assigned an index yet\n",
    "            tag_to_ix[word] = len(tag_to_ix)  # Assign each word with a unique index\n",
    "\n",
    "print(word_to_ix)\n",
    "print(tag_to_ix)\n",
    "\n",
    "# These will usually be more like 32 or 64 dimensional.\n",
    "# We will keep them small, so we can see how the weights change as we train.\n",
    "EMBEDDING_DIM = 6\n",
    "HIDDEN_DIM = 6"
   ]
  },
  {
   "cell_type": "code",
   "execution_count": 7,
   "metadata": {},
   "outputs": [],
   "source": [
    "# create the model\n",
    "class LSTMTagger(nn.Module):\n",
    "\n",
    "    def __init__(self, embedding_dim, hidden_dim, vocab_size, tagset_size):\n",
    "        super(LSTMTagger, self).__init__()\n",
    "        self.hidden_dim = hidden_dim\n",
    "\n",
    "        self.word_embeddings = nn.Embedding(vocab_size, embedding_dim)\n",
    "\n",
    "        # The LSTM takes word embeddings as inputs, and outputs hidden states\n",
    "        # with dimensionality hidden_dim.\n",
    "        self.lstm = nn.LSTM(embedding_dim, hidden_dim)\n",
    "\n",
    "        # The linear layer that maps from hidden state space to tag space\n",
    "        self.hidden2tag = nn.Linear(hidden_dim, tagset_size)\n",
    "\n",
    "    def forward(self, sentence):\n",
    "        embeds = self.word_embeddings(sentence)\n",
    "        lstm_out, _ = self.lstm(embeds.view(len(sentence), 1, -1))\n",
    "        tag_space = self.hidden2tag(lstm_out.view(len(sentence), -1))\n",
    "        tag_scores = F.log_softmax(tag_space, dim=1)\n",
    "        return tag_scores"
   ]
  },
  {
   "cell_type": "code",
   "execution_count": 10,
   "metadata": {},
   "outputs": [
    {
     "name": "stdout",
     "output_type": "stream",
     "text": [
      "tensor([[-1.9986, -2.3517, -2.5368, -2.4999, -2.4272, -2.1875, -1.8267, -1.9974,\n",
      "         -2.1988]])\n",
      "tensor([[-0.0215, -5.5830, -6.1498, -5.7125, -5.6576, -5.3338, -6.0031, -7.7892,\n",
      "         -7.0391]])\n"
     ]
    }
   ],
   "source": [
    "# train the model\n",
    "model = LSTMTagger(EMBEDDING_DIM, HIDDEN_DIM, len(word_to_ix), len(tag_to_ix))\n",
    "loss_function = nn.NLLLoss()\n",
    "optimizer = optim.SGD(model.parameters(), lr=0.1)\n",
    "\n",
    "# See what the scores are before training\n",
    "# Note that element i,j of the output is the score for tag j for word i.\n",
    "# Here we don't need to train, so the code is wrapped in torch.no_grad()\n",
    "with torch.no_grad():\n",
    "    inputs = prepare_sequence(training_data[0][0], word_to_ix)\n",
    "    tag_scores = model(inputs)\n",
    "    print(tag_scores)\n",
    "\n",
    "for epoch in range(1):  # again, normally you would NOT do 300 epochs, it is toy data\n",
    "    for sentence, tags in training_data:\n",
    "        # Step 1. Remember that Pytorch accumulates gradients.\n",
    "        # We need to clear them out before each instance\n",
    "        model.zero_grad()\n",
    "\n",
    "        # Step 2. Get our inputs ready for the network, that is, turn them into\n",
    "        # Tensors of word indices.\n",
    "        sentence_in = prepare_sequence(sentence, word_to_ix)\n",
    "        targets = prepare_sequence(tags, tag_to_ix)\n",
    "\n",
    "        # Step 3. Run our forward pass.\n",
    "        tag_scores = model(sentence_in)\n",
    "\n",
    "        # Step 4. Compute the loss, gradients, and update the parameters by\n",
    "        #  calling optimizer.step()\n",
    "        loss = loss_function(tag_scores, targets)\n",
    "        loss.backward()\n",
    "        optimizer.step()\n",
    "\n",
    "# See what the scores are after training\n",
    "with torch.no_grad():\n",
    "    inputs = prepare_sequence(training_data[0][0], word_to_ix)\n",
    "    tag_scores = model(inputs)\n",
    "\n",
    "    # The sentence is \"the dog ate the apple\".  i,j corresponds to score for tag j\n",
    "    # for word i. The predicted tag is the maximum scoring tag.\n",
    "    # Here, we can see the predicted sequence below is 0 1 2 0 1\n",
    "    # since 0 is index of the maximum value of row 1,\n",
    "    # 1 is the index of maximum value of row 2, etc.\n",
    "    # Which is DET NOUN VERB DET NOUN, the correct sequence!\n",
    "    print(tag_scores)"
   ]
  },
  {
   "cell_type": "markdown",
   "metadata": {},
   "source": [
    "### 2.2 Transformer Tagger\n",
    "    We will also use Transformer to solve the NER problem. You can refer to the following link to implement\n",
    "    your Transformer tagger: https://pytorch.org/tutorials/beginner/transformer_tutorial.html."
   ]
  },
  {
   "cell_type": "code",
   "execution_count": null,
   "metadata": {},
   "outputs": [],
   "source": []
  },
  {
   "cell_type": "markdown",
   "metadata": {},
   "source": [
    "### 2.3 Results\n",
    "    Please report your best performance on the test set in the same format as the test.txt file, but replace the\n",
    "    ground truth labels with your prediction."
   ]
  },
  {
   "cell_type": "code",
   "execution_count": null,
   "metadata": {},
   "outputs": [],
   "source": []
  }
 ],
 "metadata": {
  "kernelspec": {
   "display_name": "Python 3.9.0 64-bit",
   "language": "python",
   "name": "python3"
  },
  "language_info": {
   "codemirror_mode": {
    "name": "ipython",
    "version": 3
   },
   "file_extension": ".py",
   "mimetype": "text/x-python",
   "name": "python",
   "nbconvert_exporter": "python",
   "pygments_lexer": "ipython3",
   "version": "3.9.0"
  },
  "orig_nbformat": 4,
  "vscode": {
   "interpreter": {
    "hash": "eecfc76fa3750cf2629c769369211f386c60dfd205d50c8d0a6e4dde78012e31"
   }
  }
 },
 "nbformat": 4,
 "nbformat_minor": 2
}
